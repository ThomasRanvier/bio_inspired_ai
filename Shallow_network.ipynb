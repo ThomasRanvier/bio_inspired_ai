{
 "cells": [
  {
   "cell_type": "code",
   "execution_count": 1,
   "metadata": {},
   "outputs": [],
   "source": [
    "import numpy as np\n",
    "%matplotlib inline\n",
    "import matplotlib.pyplot as plt\n",
    "import torch,torch.utils.data\n",
    "import gzip\n",
    "import pickle"
   ]
  },
  {
   "cell_type": "markdown",
   "metadata": {},
   "source": [
    "#### Loading data\n",
    "\n",
    "Using part of the code from the 'lecture_data' script"
   ]
  },
  {
   "cell_type": "code",
   "execution_count": 2,
   "metadata": {},
   "outputs": [],
   "source": [
    "data = pickle.load(gzip.open('mnist.pkl.gz'),encoding='latin1')\n",
    "train_data = data[0][0]\n",
    "train_data_label = data[0][1]\n",
    "test_data = data[1][0]\n",
    "test_data_label = data[1][1]"
   ]
  },
  {
   "cell_type": "markdown",
   "metadata": {},
   "source": [
    "#### Visualise some data\n",
    "\n",
    "Visualising some images with the corresponding label to check if all is good"
   ]
  },
  {
   "cell_type": "code",
   "execution_count": 3,
   "metadata": {},
   "outputs": [],
   "source": [
    "def display_img(img, lab):\n",
    "    lab = np.argmax(lab)\n",
    "    plt.figure()\n",
    "    plt.imshow(img.reshape((28, 28)), interpolation='nearest', cmap='binary')\n",
    "    plt.title('label: ' + str(lab))"
   ]
  },
  {
   "cell_type": "code",
   "execution_count": 4,
   "metadata": {},
   "outputs": [
    {
     "data": {
      "image/png": "[encoded data removed]",
      "text/plain": [
       "<Figure size 432x288 with 1 Axes>"
      ]
     },
     "metadata": {
      "needs_background": "light"
     },
     "output_type": "display_data"
    },
    {
     "data": {
      "image/png": "[encoded data removed]",
      "text/plain": [
       "<Figure size 432x288 with 1 Axes>"
      ]
     },
     "metadata": {
      "needs_background": "light"
     },
     "output_type": "display_data"
    }
   ],
   "source": [
    "for i in range(2):\n",
    "    display_img(test_data[i], test_data_label[i])"
   ]
  },
  {
   "cell_type": "markdown",
   "metadata": {},
   "source": [
    "#### Parameters\n",
    "\n",
    "Parameters of the network"
   ]
  },
  {
   "cell_type": "code",
   "execution_count": 5,
   "metadata": {},
   "outputs": [],
   "source": [
    "learning_rate = .01\n",
    "epochs = 1\n",
    "nb_entries = len(train_data[0])                          # 784\n",
    "# Number of hidden neurons, arbitrary number\n",
    "nb_neurons_c = 128                                       # 26\n",
    "# Number of output neurons = number of classes\n",
    "nb_neurons_s = len(train_data_label[0])                  # 10\n",
    "# Weights of the hidden layer\n",
    "w_c = np.zeros((nb_neurons_c, nb_entries))               # w_c: (26, 784)\n",
    "# Weights of the output layer\n",
    "w_s = np.random.randn(nb_neurons_s, nb_neurons_c)        # w_s: (10, 26)\n",
    "# Biases of the hidden layer\n",
    "b_c = np.zeros((nb_neurons_c))                           # b_c: (26)\n",
    "# Biases of the output layer\n",
    "b_s = np.random.randn(nb_neurons_s)                      # b_s: (10)"
   ]
  },
  {
   "cell_type": "markdown",
   "metadata": {},
   "source": [
    "#### Perceptron implementation\n",
    "\n",
    "We define the 'fit' function that we can call to fit the network to the training data.\n",
    "\n",
    "We can then call predict to check the accuracy on the test data."
   ]
  },
  {
   "cell_type": "code",
   "execution_count": 6,
   "metadata": {},
   "outputs": [],
   "source": [
    "def sigmoid(y):\n",
    "    return 1. / (1. + np.exp(-y))\n",
    "\n",
    "def der_sigmoid(y):\n",
    "    return np.multiply(y, (1 - y))"
   ]
  },
  {
   "cell_type": "code",
   "execution_count": 7,
   "metadata": {},
   "outputs": [],
   "source": [
    "def fit():\n",
    "    global w_c, w_s, b_c, b_s\n",
    "    # For all epochs (one epoch is an iteration through the whole training set)\n",
    "    for i in range(epochs):\n",
    "        # For each training item, x is the image and t is the corresponding label\n",
    "        for x, t in zip(train_data, train_data_label):\n",
    "            # Compute the output of each hidden neuron\n",
    "            y_c = sigmoid(np.dot(w_c, x) + b_c)          # w_c: (26, 784), x: (784,), b_c: (26,), y_c: (26,)\n",
    "            # Compute the output of each output neuron\n",
    "            y_s = np.dot(w_s, y_c) + b_s                 # w_s: (10, 26), y_c: (26,), b_s: (10,), y_s: (10,)\n",
    "            # Compute the error of the output layer\n",
    "            e_s = t - y_s                                # e_s: (10,)\n",
    "            # Compute the error of the hidden layer\n",
    "            e_c = der_sigmoid(y_c) * np.dot(e_s, w_s)    # y_c: (10,), e_s: (10,), w_s: (10, 26), e_c: (26,)\n",
    "            \n",
    "            # Create a matrix containing the input image by the number of hidden neurons\n",
    "            # The matrix is transposed\n",
    "            m_c = np.transpose([x] * nb_neurons_c)       # m_c: (784, 26)\n",
    "            # Compute the delta that will be add to the weights\n",
    "            dw_c = learning_rate * m_c * e_c           # m_c: (784, 26), e_c: (26,), dw_c: (784, 26)\n",
    "            # Add the delta to the weights\n",
    "            w_c += np.transpose(dw_c)                    # w_c: (26, 784)\n",
    "            b_c += learning_rate * e_c\n",
    "            \n",
    "            # Create a matrix containing the input of the output layer (y_c) by the number of output neurons\n",
    "            # The matrix is transposed so we can multiply it to a (10,) vector\n",
    "            m_s = np.transpose([y_c] * nb_neurons_s)     # m_s: (26, 10)\n",
    "            # Compute the delta that will be add to the weights\n",
    "            dw_s = learning_rate * m_s * e_s           # m_s: (26, 10), e_s: (10,), dw_s: (26, 10)\n",
    "            # Add the delta to the weights\n",
    "            w_s += np.transpose(dw_s)                    # w_s: (10, 26)\n",
    "            #b_s += learning_rate * e_s"
   ]
  },
  {
   "cell_type": "code",
   "execution_count": 8,
   "metadata": {},
   "outputs": [],
   "source": [
    "def predict():\n",
    "    accuracy = 0\n",
    "    # For each test item\n",
    "    for x, t in zip(test_data, test_data_label):\n",
    "        # Compute the output of each hidden neuron\n",
    "        y_c = sigmoid(np.dot(w_c, x) + b_c)              # w_c: (26, 784), x: (784,), b_c: (26,), y_c: (26,)\n",
    "        # Compute the output of each output neuron\n",
    "        y_s = np.dot(w_s, y_c) + b_s                     # w_s: (10, 26), y_c: (26,), b_s: (10,), y_s: (10,)\n",
    "        # Compare the desired output with the predicted one \n",
    "        accuracy += np.argmax(y_s) == np.argmax(t)\n",
    "    # Return the accuracy of the network on the test set\n",
    "    return accuracy / len(test_data)"
   ]
  },
  {
   "cell_type": "code",
   "execution_count": 9,
   "metadata": {
    "scrolled": false
   },
   "outputs": [],
   "source": [
    "fit()"
   ]
  },
  {
   "cell_type": "code",
   "execution_count": 10,
   "metadata": {},
   "outputs": [
    {
     "name": "stdout",
     "output_type": "stream",
     "text": [
      "Accuracy: 0.9254285714285714\n"
     ]
    }
   ],
   "source": [
    "print('Accuracy: ' + str(predict()))"
   ]
  }
 ],
 "metadata": {
  "kernelspec": {
   "display_name": "Python 3",
   "language": "python",
   "name": "python3"
  },
  "language_info": {
   "codemirror_mode": {
    "name": "ipython",
    "version": 3
   },
   "file_extension": ".py",
   "mimetype": "text/x-python",
   "name": "python",
   "nbconvert_exporter": "python",
   "pygments_lexer": "ipython3",
   "version": "3.7.4"
  }
 },
 "nbformat": 4,
 "nbformat_minor": 2
}
