{
 "cells": [
  {
   "cell_type": "code",
   "execution_count": 1,
   "metadata": {},
   "outputs": [],
   "source": [
    "import numpy as np\n",
    "%matplotlib inline\n",
    "import matplotlib.pyplot as plt\n",
    "import torch\n",
    "import torch.nn as nn\n",
    "import gzip\n",
    "import pickle"
   ]
  },
  {
   "cell_type": "markdown",
   "metadata": {},
   "source": [
    "#### Loading data\n",
    "\n",
    "Using part of the code from the 'lecture_data' script, the train_loader is defined later on so we can adjust the batch_size to the used net."
   ]
  },
  {
   "cell_type": "code",
   "execution_count": 2,
   "metadata": {},
   "outputs": [],
   "source": [
    "data = pickle.load(gzip.open('mnist.pkl.gz'),encoding='latin1')\n",
    "train_data = torch.Tensor(data[0][0])\n",
    "train_data_label = torch.Tensor(data[0][1])\n",
    "test_data = torch.Tensor(data[1][0])\n",
    "test_data_label = torch.Tensor(data[1][1])\n",
    "train_dataset = torch.utils.data.TensorDataset(train_data,train_data_label)\n",
    "test_dataset = torch.utils.data.TensorDataset(test_data,test_data_label)\n",
    "test_loader = torch.utils.data.DataLoader(test_dataset, batch_size=1, shuffle=False)"
   ]
  },
  {
   "cell_type": "markdown",
   "metadata": {},
   "source": [
    "#### Visualise some data\n",
    "\n",
    "Visualising some images with the corresponding label to check if all is good"
   ]
  },
  {
   "cell_type": "code",
   "execution_count": 3,
   "metadata": {},
   "outputs": [],
   "source": [
    "def display_img(img, lab):\n",
    "    lab = np.argmax(lab)\n",
    "    plt.figure()\n",
    "    plt.imshow(img.reshape((28, 28)), interpolation='nearest', cmap='binary')\n",
    "    plt.title('label: ' + str(lab))What Is a Batch?"
   ]
  },
  {
   "cell_type": "code",
   "execution_count": 4,
   "metadata": {},
   "outputs": [
    {
     "name": "stdout",
     "output_type": "stream",
     "text": [
      "Object `Batch` not found.\n",
      "Object `Batch` not found.\n"
     ]
    },
    {
     "data": {
      "image/png": "[encoded data removed]",
      "text/plain": [
       "<Figure size 432x288 with 1 Axes>"
      ]
     },
     "metadata": {
      "needs_background": "light"
     },
     "output_type": "display_data"
    },
    {
     "data": {
      "image/png": "[encoded data removed]",
      "text/plain": [
       "<Figure size 432x288 with 1 Axes>"
      ]
     },
     "metadata": {
      "needs_background": "light"
     },
     "output_type": "display_data"
    }
   ],
   "source": [
    "for i in range(2):\n",
    "    display_img(test_data[i], test_data_label[i])"
   ]
  },
  {
   "cell_type": "markdown",
   "metadata": {},
   "source": [
    "#### Building a linear network\n",
    "\n",
    "Building a dynamic simple neural network.\n",
    "\n",
    "The net is built with the features sizes of each layer indicated in the list f_s."
   ]
  },
  {
   "cell_type": "code",
   "execution_count": 5,
   "metadata": {},
   "outputs": [],
   "source": [
    "class LinearNet(nn.Module):\n",
    "    def __init__(self, f_s, a):\n",
    "        super(LinearNet, self).__init__()\n",
    "        # Define the activation function\n",
    "        self.act = a\n",
    "        # Define an array that will hold the layers Torch variables\n",
    "        # So that pyTorch is able to understand what's going on we first need \n",
    "        # to initialize the variables and then add them to the array for later use\n",
    "        self.layers = []\n",
    "        for i in range(len(f_s) - 1):\n",
    "            # Initialise the Torch variable of the current layer\n",
    "            exec('self.l_' + str(i) + ' = nn.Linear(f_s[' + str(i) + '], f_s[' + str(i + 1) + '])')\n",
    "            # Add the new variable to the array\n",
    "            exec('self.layers.append(self.l_' + str(i) + ')')\n",
    "        \n",
    "    def forward(self, x):\n",
    "        # Goes through each layer in a feed forward manner\n",
    "        # Gives the output through the activation function for \n",
    "        # every layer except for the last one\n",
    "        for l in self.layers[:-1]:\n",
    "            x = self.act(l(x))\n",
    "        x = self.layers[-1](x)\n",
    "        return x"
   ]
  },
  {
   "cell_type": "markdown",
   "metadata": {},
   "source": [
    "#### Test with linear network"
   ]
  },
  {
   "cell_type": "code",
   "execution_count": 6,
   "metadata": {},
   "outputs": [],
   "source": [
    "def fit(net, optimizer, criterion):\n",
    "    # For all epochs\n",
    "    for epoch in range(epochs):\n",
    "        # Enumerate the whole training set\n",
    "        for i, d in enumerate(train_loader, 0):\n",
    "            inputs, labels = d\n",
    "            # Reset the parameters gradients\n",
    "            optimizer.zero_grad()\n",
    "            # Get the net prediction\n",
    "            outputs = net(inputs)\n",
    "            # Compute the loss\n",
    "            loss = criterion(outputs, labels)\n",
    "            # Back propagate the gradient\n",
    "            loss.backward()\n",
    "            optimizer.step()"
   ]
  },
  {
   "cell_type": "code",
   "execution_count": 7,
   "metadata": {},
   "outputs": [],
   "source": [
    "def predict(net):\n",
    "    correct = 0\n",
    "    total = 0\n",
    "    with torch.no_grad():\n",
    "        # Enumerate the whole testing set\n",
    "        for d in test_loader:\n",
    "            image, label = d\n",
    "            # Get the net prediction\n",
    "            output = net(image)\n",
    "            total += 1\n",
    "            # Add 1 if correct, 0 otherwise\n",
    "            correct += int(np.argmax(output)) == int(np.argmax(label))\n",
    "    # Return the accuracy of the net on the test data\n",
    "    return correct / total"
   ]
  },
  {
   "cell_type": "code",
   "execution_count": 8,
   "metadata": {},
   "outputs": [],
   "source": [
    "# Parameters\n",
    "learning_rate = .01\n",
    "epochs = 1\n",
    "# The array where we define the structure of the net\n",
    "# We can add as many layers of any size as we want\n",
    "features_sizes = [784, 128, 64, 10]\n",
    "# Define the chosen activation function\n",
    "# We tested ReLU here but the result was really bad\n",
    "activation_fn = torch.nn.Sigmoid()\n",
    "# Define the chosen loss function\n",
    "criterion = nn.MSELoss()\n",
    "\n",
    "# Define the net and optimizer\n",
    "linear_net = LinearNet(features_sizes, activation_fn)\n",
    "optimizer = torch.optim.Adam(linear_net.parameters(), lr=learning_rate)\n",
    "\n",
    "# Define the train_loader so that we can select a batch_size of size 1\n",
    "train_loader = torch.utils.data.DataLoader(train_dataset, batch_size=1, shuffle=True)\n",
    "\n",
    "# Fit the net\n",
    "fit(linear_net, optimizer, criterion)"
   ]
  },
  {
   "cell_type": "code",
   "execution_count": 9,
   "metadata": {},
   "outputs": [
    {
     "name": "stdout",
     "output_type": "stream",
     "text": [
      "Accuracy: 0.904\n"
     ]
    }
   ],
   "source": [
    "# Print the accuracy on the test set\n",
    "print('Accuracy: ' + str(predict(linear_net)))"
   ]
  },
  {
   "cell_type": "markdown",
   "metadata": {},
   "source": [
    "#### Building a convolutional network\n",
    "\n",
    "We used the structure of an existing convolutional network :\n",
    "\n",
    "https://towardsdatascience.com/mnist-handwritten-digits-classification-using-a-convolutional-neural-network-cnn-af5fafbc35e9"
   ]
  },
  {
   "cell_type": "code",
   "execution_count": 10,
   "metadata": {},
   "outputs": [],
   "source": [
    "class ConvNet(nn.Module):\n",
    "    def __init__(self, a):\n",
    "        super(ConvNet, self).__init__()\n",
    "        # Initialize Torch variable of the first conv layer\n",
    "        self.conv_1 = torch.nn.Conv2d(in_channels=1, out_channels=32, kernel_size=3, stride=1, padding=1)\n",
    "        # Initialize Torch variable of the second conv layer\n",
    "        self.conv_2 = torch.nn.Conv2d(in_channels=32, out_channels=64, kernel_size=3, stride=1, padding=1)\n",
    "        # Initialize Torch variable of max pooling layer\n",
    "        # The point of this layer is to reduce the output dimension of the conv layers\n",
    "        self.max_pool2d = torch.nn.MaxPool2d(kernel_size=2, stride=2)\n",
    "        # Initialize Torch variable of the two linear layers\n",
    "        self.linear_1 = torch.nn.Linear(7 * 7 * 64, 128)\n",
    "        self.linear_2 = torch.nn.Linear(128, 10)\n",
    "        # Add a dropout of 50%\n",
    "        # Used to dropout 50% of the neurons of the fc layer 1\n",
    "        self.dropout = torch.nn.Dropout(p=0.5)\n",
    "        # Define the activation function\n",
    "        self.act = a\n",
    "        \n",
    "    def forward(self, x):\n",
    "        # conv, relu, max pool, conv, relu, max pool, fc, relu, dropout, fc\n",
    "        x = self.conv_1(x)\n",
    "        x = self.act(x)\n",
    "        x = self.max_pool2d(x)\n",
    "        x = self.conv_2(x)\n",
    "        x = self.act(x)\n",
    "        x = self.max_pool2d(x)\n",
    "        x = x.reshape(x.size(0), -1)\n",
    "        x = self.linear_1(x)\n",
    "        x = self.act(x)\n",
    "        x = self.dropout(x)\n",
    "        x = self.linear_2(x)\n",
    "        return x"
   ]
  },
  {
   "cell_type": "code",
   "execution_count": 11,
   "metadata": {},
   "outputs": [],
   "source": [
    "learning_rate = .001\n",
    "# Many epochs since fast with big batch_size\n",
    "epochs = 50\n",
    "activation_fn = torch.nn.ReLU()\n",
    "criterion = nn.MSELoss()\n",
    "\n",
    "# Define the conv net and optimizer\n",
    "conv_net = LinearNet(features_sizes, activation_fn)\n",
    "optimizer = torch.optim.Adam(conv_net.parameters(), lr=learning_rate)\n",
    "\n",
    "# Batch_size = 64\n",
    "train_loader = torch.utils.data.DataLoader(train_dataset, batch_size=64, shuffle=True)\n",
    "\n",
    "# Fit the net\n",
    "fit(conv_net, optimizer, criterion)"
   ]
  },
  {
   "cell_type": "code",
   "execution_count": 12,
   "metadata": {},
   "outputs": [
    {
     "name": "stdout",
     "output_type": "stream",
     "text": [
      "Accuracy: 0.9791428571428571\n"
     ]
    }
   ],
   "source": [
    "# Print the accuracy on the test set\n",
    "print('Accuracy: ' + str(predict(conv_net)))"
   ]
  }
 ],
 "metadata": {
  "kernelspec": {
   "display_name": "Python 3",
   "language": "python",
   "name": "python3"
  },
  "language_info": {
   "codemirror_mode": {
    "name": "ipython",
    "version": 3
   },
   "file_extension": ".py",
   "mimetype": "text/x-python",
   "name": "python",
   "nbconvert_exporter": "python",
   "pygments_lexer": "ipython3",
   "version": "3.7.4"
  }
 },
 "nbformat": 4,
 "nbformat_minor": 2
}
